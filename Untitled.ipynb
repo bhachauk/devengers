{
 "cells": [
  {
   "cell_type": "code",
   "execution_count": 1,
   "metadata": {},
   "outputs": [],
   "source": [
    "import azureml.core\n",
    "from azureml.core import Workspace\n",
    "from azureml.core.model import Model\n",
    "from azureml.core import Experiment\n",
    "from azureml.core.webservice import Webservice\n",
    "from azureml.core.image import ContainerImage\n",
    "from azureml.core.webservice import AciWebservice\n",
    "from azureml.core.conda_dependencies import CondaDependencies"
   ]
  },
  {
   "cell_type": "code",
   "execution_count": 2,
   "metadata": {},
   "outputs": [
    {
     "name": "stderr",
     "output_type": "stream",
     "text": [
      "UserWarning: The resource group doesn't exist or was not provided. AzureML SDK is creating a resource group=hackml in location=southeastasia using subscription=bff4b491-a3df-4b59-b131-cbc3a3285944.\n"
     ]
    },
    {
     "name": "stdout",
     "output_type": "stream",
     "text": [
      "Deploying KeyVault with name stockprekeyvault895b345d.\n",
      "Deploying StorageAccount with name stockprestorage3595c5089.\n",
      "Deploying AppInsights with name stockpreinsights5c6ec6e2.\n",
      "Deployed AppInsights with name stockpreinsights5c6ec6e2. Took 12.93 seconds.\n",
      "Deployed KeyVault with name stockprekeyvault895b345d. Took 20.27 seconds.\n",
      "Deploying Workspace with name stockprediction.\n",
      "Deployed StorageAccount with name stockprestorage3595c5089. Took 26.94 seconds.\n",
      "Deployed Workspace with name stockprediction. Took 27.1 seconds.\n"
     ]
    }
   ],
   "source": [
    "ws = Workspace.create(name='stockprediction',\n",
    "                      subscription_id='bff4b491-a3df-4b59-b131-cbc3a3285944', \n",
    "                      resource_group='hackml',\n",
    "                      create_resource_group=True,\n",
    "                      location='southeastasia'\n",
    "                     )"
   ]
  },
  {
   "cell_type": "code",
   "execution_count": 4,
   "metadata": {},
   "outputs": [],
   "source": [
    "import datetime\n",
    "exp = Experiment(workspace=ws, name='stockexperiment')\n",
    "run = exp.start_logging()                   \n",
    "run.log(\"Experiment start time\", str(datetime.datetime.now()))"
   ]
  },
  {
   "cell_type": "code",
   "execution_count": null,
   "metadata": {},
   "outputs": [],
   "source": []
  }
 ],
 "metadata": {
  "kernelspec": {
   "display_name": "Python 3",
   "language": "python",
   "name": "python3"
  },
  "language_info": {
   "codemirror_mode": {
    "name": "ipython",
    "version": 3
   },
   "file_extension": ".py",
   "mimetype": "text/x-python",
   "name": "python",
   "nbconvert_exporter": "python",
   "pygments_lexer": "ipython3",
   "version": "3.7.3"
  }
 },
 "nbformat": 4,
 "nbformat_minor": 2
}
